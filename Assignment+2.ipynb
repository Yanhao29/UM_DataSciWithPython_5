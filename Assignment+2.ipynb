{
 "cells": [
  {
   "cell_type": "markdown",
   "metadata": {},
   "source": [
    "---\n",
    "\n",
    "_You are currently looking at **version 1.2** of this notebook. To download notebooks and datafiles, as well as get help on Jupyter notebooks in the Coursera platform, visit the [Jupyter Notebook FAQ](https://www.coursera.org/learn/python-social-network-analysis/resources/yPcBs) course resource._\n",
    "\n",
    "---"
   ]
  },
  {
   "cell_type": "markdown",
   "metadata": {},
   "source": [
    "# Assignment 2 - Network Connectivity\n",
    "\n",
    "In this assignment you will go through the process of importing and analyzing an internal email communication network between employees of a mid-sized manufacturing company. \n",
    "Each node represents an employee and each directed edge between two nodes represents an individual email. The left node represents the sender and the right node represents the recipient."
   ]
  },
  {
   "cell_type": "code",
   "execution_count": 85,
   "metadata": {},
   "outputs": [],
   "source": [
    "import networkx as nx\n",
    "\n",
    "# This line must be commented out when submitting to the autograder\n",
    "# !head email_network.txt"
   ]
  },
  {
   "cell_type": "markdown",
   "metadata": {},
   "source": [
    "### Question 1\n",
    "\n",
    "Using networkx, load up the directed multigraph from `email_network.txt`. Make sure the node names are strings.\n",
    "\n",
    "*This function should return a directed multigraph networkx graph.*"
   ]
  },
  {
   "cell_type": "code",
   "execution_count": 86,
   "metadata": {
    "collapsed": true
   },
   "outputs": [],
   "source": [
    "def answer_one():\n",
    "    \n",
    "    # Your Code Here\n",
    "    G = nx.read_edgelist('email_network.txt', nodetype=str, data=[('time', int)], create_using=nx.MultiDiGraph())\n",
    "    return G # Your Answer Here"
   ]
  },
  {
   "cell_type": "markdown",
   "metadata": {},
   "source": [
    "### Question 2\n",
    "\n",
    "How many employees and emails are represented in the graph from Question 1?\n",
    "\n",
    "*This function should return a tuple (#employees, #emails).*"
   ]
  },
  {
   "cell_type": "code",
   "execution_count": 87,
   "metadata": {
    "collapsed": true
   },
   "outputs": [],
   "source": [
    "def answer_two():\n",
    "        \n",
    "    # Your Code Here\n",
    "    G = answer_one()\n",
    "    num_employees = nx.number_of_nodes(G)\n",
    "    num_emails = nx.number_of_edges(G)\n",
    "    return (num_employees, num_emails) # Your Answer Here"
   ]
  },
  {
   "cell_type": "markdown",
   "metadata": {},
   "source": [
    "### Question 3\n",
    "\n",
    "* Part 1. Assume that information in this company can only be exchanged through email.\n",
    "\n",
    "    When an employee sends an email to another employee, a communication channel has been created, allowing the sender to provide information to the receiver, but not vice versa. \n",
    "\n",
    "    Based on the emails sent in the data, is it possible for information to go from every employee to every other employee?\n",
    "\n",
    "\n",
    "* Part 2. Now assume that a communication channel established by an email allows information to be exchanged both ways. \n",
    "\n",
    "    Based on the emails sent in the data, is it possible for information to go from every employee to every other employee?\n",
    "\n",
    "\n",
    "*This function should return a tuple of bools (part1, part2).*"
   ]
  },
  {
   "cell_type": "code",
   "execution_count": 88,
   "metadata": {
    "collapsed": true
   },
   "outputs": [],
   "source": [
    "def answer_three():\n",
    "        \n",
    "    # Your Code Here\n",
    "    G = answer_one()\n",
    "    b1 = nx.is_strongly_connected(G)\n",
    "    b2 = nx.is_weakly_connected(G)\n",
    "    return (b1, b2) # Your Answer Here"
   ]
  },
  {
   "cell_type": "markdown",
   "metadata": {},
   "source": [
    "### Question 4\n",
    "\n",
    "How many nodes are in the largest (in terms of nodes) weakly connected component?\n",
    "\n",
    "*This function should return an int.*"
   ]
  },
  {
   "cell_type": "code",
   "execution_count": 89,
   "metadata": {
    "collapsed": true,
    "scrolled": true
   },
   "outputs": [],
   "source": [
    "def answer_four():\n",
    "        \n",
    "    # Your Code Here\n",
    "    G = answer_one()\n",
    "    G_list = list(nx.weakly_connected_components(G))\n",
    "    num = 0\n",
    "    for i in range(len(G_list)):\n",
    "        if len(G_list[i])>num:\n",
    "            num = len(G_list[i])\n",
    "    return num # Your Answer Here"
   ]
  },
  {
   "cell_type": "markdown",
   "metadata": {},
   "source": [
    "### Question 5\n",
    "\n",
    "How many nodes are in the largest (in terms of nodes) strongly connected component?\n",
    "\n",
    "*This function should return an int*"
   ]
  },
  {
   "cell_type": "code",
   "execution_count": 90,
   "metadata": {
    "collapsed": true
   },
   "outputs": [],
   "source": [
    "def answer_five():\n",
    "        \n",
    "    # Your Code Here\n",
    "    G = answer_one()\n",
    "    G_list = list(nx.strongly_connected_components(G))\n",
    "    num = 0\n",
    "    for i in range(len(G_list)):\n",
    "        if len(G_list[i])>num:\n",
    "            num = len(G_list[i])    \n",
    "    return num # Your Answer Here"
   ]
  },
  {
   "cell_type": "markdown",
   "metadata": {},
   "source": [
    "### Question 6\n",
    "\n",
    "Using the NetworkX function strongly_connected_component_subgraphs, find the subgraph of nodes in a largest strongly connected component. \n",
    "Call this graph G_sc.\n",
    "\n",
    "*This function should return a networkx MultiDiGraph named G_sc.*"
   ]
  },
  {
   "cell_type": "code",
   "execution_count": 91,
   "metadata": {
    "collapsed": true
   },
   "outputs": [],
   "source": [
    "def answer_six():\n",
    "        \n",
    "    # Your Code Here\n",
    "    G = answer_one()\n",
    "    temp = list(nx.strongly_connected_component_subgraphs(G))\n",
    "    G_sc = nx.MultiDiGraph()\n",
    "    for i in temp:\n",
    "        if i.number_of_nodes()>G_sc.number_of_nodes():\n",
    "            G_sc = i\n",
    "    return G_sc # Your Answer Here"
   ]
  },
  {
   "cell_type": "markdown",
   "metadata": {},
   "source": [
    "### Question 7\n",
    "\n",
    "What is the average distance between nodes in G_sc?\n",
    "\n",
    "*This function should return a float.*"
   ]
  },
  {
   "cell_type": "code",
   "execution_count": 92,
   "metadata": {
    "collapsed": true
   },
   "outputs": [],
   "source": [
    "def answer_seven():\n",
    "        \n",
    "    # Your Code Here\n",
    "    G_sc = answer_six()\n",
    "    return nx.average_shortest_path_length(G_sc) # Your Answer Here"
   ]
  },
  {
   "cell_type": "markdown",
   "metadata": {},
   "source": [
    "### Question 8\n",
    "\n",
    "What is the largest possible distance between two employees in G_sc?\n",
    "\n",
    "*This function should return an int.*"
   ]
  },
  {
   "cell_type": "code",
   "execution_count": 93,
   "metadata": {
    "collapsed": true
   },
   "outputs": [],
   "source": [
    "def answer_eight():\n",
    "        \n",
    "    # Your Code Here\n",
    "    G_sc = answer_six()\n",
    "    return nx.diameter(G_sc) # Your Answer Here"
   ]
  },
  {
   "cell_type": "markdown",
   "metadata": {},
   "source": [
    "### Question 9\n",
    "\n",
    "What is the set of nodes in G_sc with eccentricity equal to the diameter?\n",
    "\n",
    "*This function should return a set of the node(s).*"
   ]
  },
  {
   "cell_type": "code",
   "execution_count": 94,
   "metadata": {
    "collapsed": true
   },
   "outputs": [],
   "source": [
    "def answer_nine():\n",
    "       \n",
    "    # Your Code Here\n",
    "    G_sc = answer_six()\n",
    "    return set(nx.periphery(G_sc)) # Your Answer Here"
   ]
  },
  {
   "cell_type": "markdown",
   "metadata": {},
   "source": [
    "### Question 10\n",
    "\n",
    "What is the set of node(s) in G_sc with eccentricity equal to the radius?\n",
    "\n",
    "*This function should return a set of the node(s).*"
   ]
  },
  {
   "cell_type": "code",
   "execution_count": 95,
   "metadata": {
    "collapsed": true
   },
   "outputs": [],
   "source": [
    "def answer_ten():\n",
    "        \n",
    "    # Your Code Here\n",
    "    G_sc = answer_six()\n",
    "    return set(nx.center(G_sc)) # Your Answer Here"
   ]
  },
  {
   "cell_type": "markdown",
   "metadata": {},
   "source": [
    "### Question 11\n",
    "\n",
    "Which node in G_sc is connected to the most other nodes by a shortest path of length equal to the diameter of G_sc?\n",
    "\n",
    "How many nodes are connected to this node?\n",
    "\n",
    "\n",
    "*This function should return a tuple (name of node, number of satisfied connected nodes).*"
   ]
  },
  {
   "cell_type": "code",
   "execution_count": 96,
   "metadata": {
    "collapsed": true
   },
   "outputs": [],
   "source": [
    "def answer_eleven():\n",
    "        \n",
    "    # Your Code Here\n",
    "    G_sc = answer_six()\n",
    "    temp = None\n",
    "    temp_num = 0\n",
    "    dia = nx.diameter(G_sc)\n",
    "    for x in nx.periphery(G_sc):\n",
    "        ct = 0\n",
    "        for y in G_sc.nodes():\n",
    "            if nx.shortest_path_length(G_sc, x, y)==dia:\n",
    "                ct+=1\n",
    "        if(ct>temp_num):\n",
    "            temp_num = ct\n",
    "            temp = x\n",
    "    return (temp, temp_num) # Your Answer Here"
   ]
  },
  {
   "cell_type": "markdown",
   "metadata": {},
   "source": [
    "### Question 12\n",
    "\n",
    "Suppose you want to prevent communication from flowing to the node that you found in the previous question from any node in the center of G_sc, what is the smallest number of nodes you would need to remove from the graph (you're not allowed to remove the node from the previous question or the center nodes)? \n",
    "\n",
    "*This function should return an integer.*"
   ]
  },
  {
   "cell_type": "code",
   "execution_count": 97,
   "metadata": {
    "collapsed": true
   },
   "outputs": [],
   "source": [
    "def answer_twelve():\n",
    "        \n",
    "    # Your Code Here\n",
    "    G_sc = answer_six()\n",
    "    node = list(answer_eleven())[0]\n",
    "    center = answer_ten()\n",
    "    remove = []\n",
    "    for x in center:\n",
    "        remove += (list(nx.minimum_node_cut(G_sc, x, node)))\n",
    "    return len(remove) # Your Answer Here"
   ]
  },
  {
   "cell_type": "markdown",
   "metadata": {},
   "source": [
    "### Question 13\n",
    "\n",
    "Construct an undirected graph G_un using G_sc (you can ignore the attributes).\n",
    "\n",
    "*This function should return a networkx Graph.*"
   ]
  },
  {
   "cell_type": "code",
   "execution_count": 98,
   "metadata": {
    "collapsed": true
   },
   "outputs": [],
   "source": [
    "def answer_thirteen():\n",
    "        \n",
    "    # Your Code Here\n",
    "    G_sc = answer_six()\n",
    "    G_un = nx.Graph(G_sc.to_undirected())\n",
    "    return G_un # Your Answer Here"
   ]
  },
  {
   "cell_type": "markdown",
   "metadata": {},
   "source": [
    "### Question 14\n",
    "\n",
    "What is the transitivity and average clustering coefficient of graph G_un?\n",
    "\n",
    "*This function should return a tuple (transitivity, avg clustering).*"
   ]
  },
  {
   "cell_type": "code",
   "execution_count": 99,
   "metadata": {
    "collapsed": true
   },
   "outputs": [],
   "source": [
    "def answer_fourteen():\n",
    "        \n",
    "    # Your Code Here\n",
    "    G_un = answer_thirteen()\n",
    "    transitivity = nx.transitivity(G_un)\n",
    "    cluster_coef = nx.average_clustering(G_un)\n",
    "    return (transitivity, cluster_coef) # Your Answer Here"
   ]
  },
  {
   "cell_type": "code",
   "execution_count": null,
   "metadata": {
    "collapsed": true
   },
   "outputs": [],
   "source": []
  }
 ],
 "metadata": {
  "coursera": {
   "course_slug": "python-social-network-analysis",
   "graded_item_id": "jMCHR",
   "launcher_item_id": "7RsKp",
   "part_id": "E9gn5"
  },
  "kernelspec": {
   "display_name": "Python 3",
   "language": "python",
   "name": "python3"
  },
  "language_info": {
   "codemirror_mode": {
    "name": "ipython",
    "version": 3
   },
   "file_extension": ".py",
   "mimetype": "text/x-python",
   "name": "python",
   "nbconvert_exporter": "python",
   "pygments_lexer": "ipython3",
   "version": "3.6.0"
  }
 },
 "nbformat": 4,
 "nbformat_minor": 2
}
