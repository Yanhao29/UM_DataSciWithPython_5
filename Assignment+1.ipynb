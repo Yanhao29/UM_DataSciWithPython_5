{
 "cells": [
  {
   "cell_type": "markdown",
   "metadata": {},
   "source": [
    "---\n",
    "\n",
    "_You are currently looking at **version 1.1** of this notebook. To download notebooks and datafiles, as well as get help on Jupyter notebooks in the Coursera platform, visit the [Jupyter Notebook FAQ](https://www.coursera.org/learn/python-social-network-analysis/resources/yPcBs) course resource._\n",
    "\n",
    "---"
   ]
  },
  {
   "cell_type": "markdown",
   "metadata": {},
   "source": [
    "# Assignment 1 - Creating and Manipulating Graphs\n",
    "\n",
    "Eight employees at a small company were asked to choose 3 movies that they would most enjoy watching for the upcoming company movie night. These choices are stored in the file `Employee_Movie_Choices.txt`.\n",
    "\n",
    "A second file, `Employee_Relationships.txt`, has data on the relationships between different coworkers. \n",
    "\n",
    "The relationship score has value of `-100` (Enemies) to `+100` (Best Friends). A value of zero means the two employees haven't interacted or are indifferent.\n",
    "\n",
    "Both files are tab delimited."
   ]
  },
  {
   "cell_type": "code",
   "execution_count": 70,
   "metadata": {
    "collapsed": true
   },
   "outputs": [],
   "source": [
    "import networkx as nx\n",
    "import pandas as pd\n",
    "import numpy as np\n",
    "from networkx.algorithms import bipartite\n",
    "\n",
    "\n",
    "# This is the set of employees\n",
    "employees = set(['Pablo',\n",
    "                 'Lee',\n",
    "                 'Georgia',\n",
    "                 'Vincent',\n",
    "                 'Andy',\n",
    "                 'Frida',\n",
    "                 'Joan',\n",
    "                 'Claude'])\n",
    "\n",
    "# This is the set of movies\n",
    "movies = set(['The Shawshank Redemption',\n",
    "              'Forrest Gump',\n",
    "              'The Matrix',\n",
    "              'Anaconda',\n",
    "              'The Social Network',\n",
    "              'The Godfather',\n",
    "              'Monty Python and the Holy Grail',\n",
    "              'Snakes on a Plane',\n",
    "              'Kung Fu Panda',\n",
    "              'The Dark Knight',\n",
    "              'Mean Girls'])\n",
    "\n",
    "\n",
    "# you can use the following function to plot graphs\n",
    "# make sure to comment it out before submitting to the autograder\n",
    "def plot_graph(G, weight_name=None):\n",
    "    '''\n",
    "    G: a networkx G\n",
    "    weight_name: name of the attribute for plotting edge weights (if G is weighted)\n",
    "    '''\n",
    "    %matplotlib notebook\n",
    "    import matplotlib.pyplot as plt\n",
    "    \n",
    "    plt.figure()\n",
    "    pos = nx.spring_layout(G)\n",
    "    edges = G.edges()\n",
    "    weights = None\n",
    "    \n",
    "    if weight_name:\n",
    "        weights = [int(G[u][v][weight_name]) for u,v in edges]\n",
    "        labels = nx.get_edge_attributes(G,weight_name)\n",
    "        nx.draw_networkx_edge_labels(G,pos,edge_labels=labels)\n",
    "        nx.draw_networkx(G, pos, edges=edges, width=weights);\n",
    "    else:\n",
    "        nx.draw_networkx(G, pos, edges=edges);"
   ]
  },
  {
   "cell_type": "markdown",
   "metadata": {},
   "source": [
    "### Question 1\n",
    "\n",
    "Using NetworkX, load in the bipartite graph from `Employee_Movie_Choices.txt` and return that graph.\n",
    "\n",
    "*This function should return a networkx graph with 19 nodes and 24 edges*"
   ]
  },
  {
   "cell_type": "code",
   "execution_count": 71,
   "metadata": {
    "collapsed": true
   },
   "outputs": [],
   "source": [
    "def answer_one():\n",
    "        \n",
    "    # Your Code Here\n",
    "    G = nx.read_edgelist('Employee_Movie_Choices.txt', delimiter='\\t')\n",
    "    \n",
    "    return G# Your Answer Here"
   ]
  },
  {
   "cell_type": "code",
   "execution_count": 73,
   "metadata": {},
   "outputs": [],
   "source": [
    "# G = answer_one()\n",
    "# G.nodes()\n",
    "# G.nodes()[0] in employees"
   ]
  },
  {
   "cell_type": "markdown",
   "metadata": {},
   "source": [
    "### Question 2\n",
    "\n",
    "Using the graph from the previous question, add nodes attributes named `'type'` where movies have the value `'movie'` and employees have the value `'employee'` and return that graph.\n",
    "\n",
    "*This function should return a networkx graph with node attributes `{'type': 'movie'}` or `{'type': 'employee'}`*"
   ]
  },
  {
   "cell_type": "code",
   "execution_count": 74,
   "metadata": {
    "collapsed": true
   },
   "outputs": [],
   "source": [
    "def answer_two():\n",
    "    \n",
    "    # Your Code Here\n",
    "    G = answer_one()\n",
    "    for node in G.nodes():\n",
    "        if node in employees:\n",
    "            G.add_node(node, type='movie')\n",
    "        else:\n",
    "            G.add_node(node, type='employee')\n",
    "    return G # Your Answer Here"
   ]
  },
  {
   "cell_type": "code",
   "execution_count": 75,
   "metadata": {},
   "outputs": [],
   "source": [
    "# G = answer_two()\n",
    "# G.nodes(data=True)"
   ]
  },
  {
   "cell_type": "markdown",
   "metadata": {
    "collapsed": true
   },
   "source": [
    "### Question 3\n",
    "\n",
    "Find a weighted projection of the graph from `answer_two` which tells us how many movies different pairs of employees have in common.\n",
    "\n",
    "*This function should return a weighted projected graph.*"
   ]
  },
  {
   "cell_type": "code",
   "execution_count": 76,
   "metadata": {
    "collapsed": true
   },
   "outputs": [],
   "source": [
    "def answer_three():\n",
    "        \n",
    "    # Your Code Here\n",
    "    G = answer_two()\n",
    "    G = bipartite.weighted_projected_graph(G, employees)\n",
    "    return G # Your Answer Here"
   ]
  },
  {
   "cell_type": "code",
   "execution_count": 78,
   "metadata": {},
   "outputs": [],
   "source": [
    "# G = answer_three()\n",
    "# G.edges(data=True)\n",
    "# G.edge['Joan']['Andy']['weight']"
   ]
  },
  {
   "cell_type": "markdown",
   "metadata": {
    "collapsed": true
   },
   "source": [
    "### Question 4\n",
    "\n",
    "Suppose you'd like to find out if people that have a high relationship score also like the same types of movies.\n",
    "\n",
    "Find the Pearson correlation ( using `DataFrame.corr()` ) between employee relationship scores and the number of movies they have in common. If two employees have no movies in common it should be treated as a 0, not a missing value, and should be included in the correlation calculation.\n",
    "\n",
    "*This function should return a float.*"
   ]
  },
  {
   "cell_type": "code",
   "execution_count": 79,
   "metadata": {},
   "outputs": [],
   "source": [
    "def answer_four():\n",
    "        \n",
    "    # Your Code Here\n",
    "    G = answer_three()\n",
    "    employee_relation = pd.read_table('Employee_Relationships.txt',header=None,names=['N1','N2','score'])\n",
    "    common_movie = []\n",
    "    for i in range(employee_relation.shape[0]):\n",
    "        try:\n",
    "            common_movie.append(G.edge[employee_relation.iloc[i].N1][employee_relation.iloc[i].N2]['weight'])\n",
    "        except:\n",
    "            common_movie.append(0)\n",
    "    common_movie = pd.DataFrame(common_movie,columns=['movie'])\n",
    "    df = pd.concat([common_movie, employee_relation.score],axis=1)\n",
    "    return df['movie'].corr(df['score']) # Your Answer Here\n"
   ]
  },
  {
   "cell_type": "code",
   "execution_count": 81,
   "metadata": {},
   "outputs": [],
   "source": [
    "# answer_four()"
   ]
  },
  {
   "cell_type": "code",
   "execution_count": null,
   "metadata": {
    "collapsed": true
   },
   "outputs": [],
   "source": []
  }
 ],
 "metadata": {
  "coursera": {
   "course_slug": "python-social-network-analysis",
   "graded_item_id": "YNa9b",
   "launcher_item_id": "hvNc1",
   "part_id": "VbyiB"
  },
  "kernelspec": {
   "display_name": "Python 3",
   "language": "python",
   "name": "python3"
  },
  "language_info": {
   "codemirror_mode": {
    "name": "ipython",
    "version": 3
   },
   "file_extension": ".py",
   "mimetype": "text/x-python",
   "name": "python",
   "nbconvert_exporter": "python",
   "pygments_lexer": "ipython3",
   "version": "3.6.0"
  }
 },
 "nbformat": 4,
 "nbformat_minor": 2
}
