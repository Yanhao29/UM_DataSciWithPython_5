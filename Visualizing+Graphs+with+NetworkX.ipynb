{
 "cells": [
  {
   "cell_type": "markdown",
   "metadata": {},
   "source": [
    "# Visualizing Networks"
   ]
  },
  {
   "cell_type": "code",
   "execution_count": null,
   "metadata": {
    "collapsed": false
   },
   "outputs": [],
   "source": [
    "%matplotlib notebook\n",
    "\n",
    "import networkx as nx\n",
    "import matplotlib.pyplot as plt\n",
    "\n",
    "# read in the graph \n",
    "G = nx.read_gpickle('major_us_cities')"
   ]
  },
  {
   "cell_type": "code",
   "execution_count": null,
   "metadata": {
    "collapsed": false
   },
   "outputs": [],
   "source": [
    "# draw the graph using the default spring layout\n",
    "plt.figure(figsize=(10,9))\n",
    "nx.draw_networkx(G)"
   ]
  },
  {
   "cell_type": "code",
   "execution_count": null,
   "metadata": {
    "collapsed": false
   },
   "outputs": [],
   "source": [
    "# See what layouts are available in networkX\n",
    "[x for x in nx.__dir__() if x.endswith('_layout')]"
   ]
  },
  {
   "cell_type": "code",
   "execution_count": null,
   "metadata": {
    "collapsed": false
   },
   "outputs": [],
   "source": [
    "# Draw the graph using the random layout\n",
    "plt.figure(figsize=(10,9))\n",
    "pos = nx.random_layout(G)\n",
    "nx.draw_networkx(G, pos)"
   ]
  },
  {
   "cell_type": "code",
   "execution_count": null,
   "metadata": {
    "collapsed": false
   },
   "outputs": [],
   "source": [
    "# Draw the graph using the circular layout\n",
    "plt.figure(figsize=(10,9))\n",
    "pos = nx.circular_layout(G)\n",
    "nx.draw_networkx(G, pos)"
   ]
  },
  {
   "cell_type": "code",
   "execution_count": null,
   "metadata": {
    "collapsed": false
   },
   "outputs": [],
   "source": [
    "# Draw the graph using custom node positions\n",
    "plt.figure(figsize=(10,7))\n",
    "\n",
    "pos = nx.get_node_attributes(G, 'location')\n",
    "nx.draw_networkx(G, pos)"
   ]
  },
  {
   "cell_type": "code",
   "execution_count": null,
   "metadata": {
    "collapsed": false
   },
   "outputs": [],
   "source": [
    "# Draw the graph adding alpha, removing labels, and softening edge color\n",
    "plt.figure(figsize=(10,7))\n",
    "\n",
    "nx.draw_networkx(G, pos, alpha=0.7, with_labels=False, edge_color='.4')\n",
    "\n",
    "plt.axis('off')\n",
    "plt.tight_layout();"
   ]
  },
  {
   "cell_type": "code",
   "execution_count": null,
   "metadata": {
    "collapsed": false
   },
   "outputs": [],
   "source": [
    "# Draw graph with varying node color, node size, and edge width\n",
    "plt.figure(figsize=(10,7))\n",
    "\n",
    "node_color = [G.degree(v) for v in G]\n",
    "node_size = [0.0005*nx.get_node_attributes(G, 'population')[v] for v in G]\n",
    "edge_width = [0.0015*G[u][v]['weight'] for u,v in G.edges()]\n",
    "\n",
    "nx.draw_networkx(G, pos, node_size=node_size, \n",
    "                 node_color=node_color, alpha=0.7, with_labels=False, \n",
    "                 width=edge_width, edge_color='.4', cmap=plt.cm.Blues)\n",
    "\n",
    "plt.axis('off')\n",
    "plt.tight_layout();"
   ]
  },
  {
   "cell_type": "code",
   "execution_count": null,
   "metadata": {
    "collapsed": false,
    "scrolled": false
   },
   "outputs": [],
   "source": [
    "# Draw specific edges and add labels to specific nodes\n",
    "plt.figure(figsize=(10,7))\n",
    "\n",
    "node_color = [G.degree(v) for v in G]\n",
    "node_size = [0.0005*nx.get_node_attributes(G, 'population')[v] for v in G]\n",
    "edge_width = [0.0015*G[u][v]['weight'] for u,v in G.edges()]\n",
    "\n",
    "nx.draw_networkx(G, pos, node_size=node_size, \n",
    "                 node_color=node_color, alpha=0.7, with_labels=False, \n",
    "                 width=edge_width, edge_color='.4', cmap=plt.cm.Blues)\n",
    "\n",
    "\n",
    "greater_than_770 = [x for x in G.edges(data=True) if x[2]['weight']>770]\n",
    "nx.draw_networkx_edges(G, pos, edgelist=greater_than_770, edge_color='r', alpha=0.4, width=6)\n",
    "\n",
    "nx.draw_networkx_labels(G, pos, labels={'Los Angeles, CA': 'LA', 'New York, NY': 'NYC'}, font_size=18, font_color='w')\n",
    "\n",
    "plt.axis('off')\n",
    "plt.tight_layout();"
   ]
  }
 ],
 "metadata": {
  "kernelspec": {
   "display_name": "Python 3",
   "language": "python",
   "name": "python3"
  },
  "language_info": {
   "codemirror_mode": {
    "name": "ipython",
    "version": 3
   },
   "file_extension": ".py",
   "mimetype": "text/x-python",
   "name": "python",
   "nbconvert_exporter": "python",
   "pygments_lexer": "ipython3",
   "version": "3.5.2"
  }
 },
 "nbformat": 4,
 "nbformat_minor": 2
}
